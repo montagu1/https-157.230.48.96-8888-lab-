{
 "cells": [
  {
   "cell_type": "code",
   "execution_count": 8,
   "metadata": {},
   "outputs": [],
   "source": [
    "import requests\n",
    "import pandas as pd\n",
    "import sqlite3\n",
    "import lxml.html\n",
    "import urllib\n",
    "import urllib.request\n",
    "from bs4 import BeautifulSoup"
   ]
  },
  {
   "cell_type": "code",
   "execution_count": 9,
   "metadata": {},
   "outputs": [],
   "source": [
    "r = requests.get(\"https://www.basketball-reference.com/teams/\")"
   ]
  },
  {
   "cell_type": "code",
   "execution_count": 10,
   "metadata": {},
   "outputs": [
    {
     "data": {
      "text/plain": [
       "<Response [200]>"
      ]
     },
     "execution_count": 10,
     "metadata": {},
     "output_type": "execute_result"
    }
   ],
   "source": [
    "r"
   ]
  },
  {
   "cell_type": "code",
   "execution_count": 11,
   "metadata": {},
   "outputs": [],
   "source": [
    "html               = lxml.html.fromstring(r.text)\n",
    "teams_active_table = html.get_element_by_id(\"teams_active\")\n",
    "tablebody          = teams_active_table.getchildren()[3]"
   ]
  },
  {
   "cell_type": "code",
   "execution_count": 12,
   "metadata": {},
   "outputs": [
    {
     "data": {
      "text/plain": [
       "<Element table at 0x7f72768274f0>"
      ]
     },
     "execution_count": 12,
     "metadata": {},
     "output_type": "execute_result"
    }
   ],
   "source": [
    "teams_active_table"
   ]
  },
  {
   "cell_type": "code",
   "execution_count": 13,
   "metadata": {},
   "outputs": [
    {
     "data": {
      "text/plain": [
       "[<Element caption at 0x7f7276827040>,\n",
       " <Element colgroup at 0x7f7276827400>,\n",
       " <Element thead at 0x7f7276827270>,\n",
       " <Element tbody at 0x7f7276827630>]"
      ]
     },
     "execution_count": 13,
     "metadata": {},
     "output_type": "execute_result"
    }
   ],
   "source": [
    "teams_active_table.getchildren()"
   ]
  },
  {
   "cell_type": "code",
   "execution_count": 14,
   "metadata": {},
   "outputs": [
    {
     "data": {
      "text/plain": [
       "<Element tbody at 0x7f7276827630>"
      ]
     },
     "execution_count": 14,
     "metadata": {},
     "output_type": "execute_result"
    }
   ],
   "source": [
    "tablebody"
   ]
  },
  {
   "cell_type": "code",
   "execution_count": 15,
   "metadata": {},
   "outputs": [
    {
     "data": {
      "text/plain": [
       "[<Element tr at 0x7f7276827810>,\n",
       " <Element tr at 0x7f7276827720>,\n",
       " <Element tr at 0x7f7276827c20>,\n",
       " <Element tr at 0x7f7276827c70>,\n",
       " <Element tr at 0x7f7276827cc0>,\n",
       " <Element tr at 0x7f7276827d10>,\n",
       " <Element tr at 0x7f7276827d60>,\n",
       " <Element tr at 0x7f7276827db0>,\n",
       " <Element tr at 0x7f7276827e00>,\n",
       " <Element tr at 0x7f7276827e50>,\n",
       " <Element tr at 0x7f7276827ea0>,\n",
       " <Element tr at 0x7f7276827ef0>,\n",
       " <Element tr at 0x7f7276827f40>,\n",
       " <Element tr at 0x7f7276827f90>,\n",
       " <Element tr at 0x7f727682d040>,\n",
       " <Element tr at 0x7f727682d090>,\n",
       " <Element tr at 0x7f727682d0e0>,\n",
       " <Element tr at 0x7f727682d130>,\n",
       " <Element tr at 0x7f727682d180>,\n",
       " <Element tr at 0x7f727682d1d0>,\n",
       " <Element tr at 0x7f727682d220>,\n",
       " <Element tr at 0x7f727682d270>,\n",
       " <Element tr at 0x7f727682d2c0>,\n",
       " <Element tr at 0x7f727682d310>,\n",
       " <Element tr at 0x7f727682d360>,\n",
       " <Element tr at 0x7f727682d3b0>,\n",
       " <Element tr at 0x7f727682d400>,\n",
       " <Element tr at 0x7f727682d450>,\n",
       " <Element tr at 0x7f727682d4a0>,\n",
       " <Element tr at 0x7f727682d4f0>,\n",
       " <Element tr at 0x7f727682d540>,\n",
       " <Element tr at 0x7f727682d590>,\n",
       " <Element tr at 0x7f727682d5e0>,\n",
       " <Element tr at 0x7f727682d630>,\n",
       " <Element tr at 0x7f727682d680>,\n",
       " <Element tr at 0x7f727682d6d0>,\n",
       " <Element tr at 0x7f727682d720>,\n",
       " <Element tr at 0x7f727682d770>,\n",
       " <Element tr at 0x7f727682d7c0>,\n",
       " <Element tr at 0x7f727682d810>,\n",
       " <Element tr at 0x7f727682d860>,\n",
       " <Element tr at 0x7f727682d8b0>,\n",
       " <Element tr at 0x7f727682d900>,\n",
       " <Element tr at 0x7f727682d950>,\n",
       " <Element tr at 0x7f727682d9a0>,\n",
       " <Element tr at 0x7f727682d9f0>,\n",
       " <Element tr at 0x7f727682da40>,\n",
       " <Element tr at 0x7f727682da90>,\n",
       " <Element tr at 0x7f727682dae0>,\n",
       " <Element tr at 0x7f727682db30>,\n",
       " <Element tr at 0x7f727682db80>,\n",
       " <Element tr at 0x7f727682dbd0>,\n",
       " <Element tr at 0x7f727682dc20>,\n",
       " <Element tr at 0x7f727682dc70>,\n",
       " <Element tr at 0x7f727682dcc0>,\n",
       " <Element tr at 0x7f727682dd10>,\n",
       " <Element tr at 0x7f727682dd60>,\n",
       " <Element tr at 0x7f727682ddb0>,\n",
       " <Element tr at 0x7f727682de00>,\n",
       " <Element tr at 0x7f727682de50>,\n",
       " <Element tr at 0x7f727682dea0>,\n",
       " <Element tr at 0x7f727682def0>,\n",
       " <Element tr at 0x7f727682df40>,\n",
       " <Element tr at 0x7f727682df90>,\n",
       " <Element tr at 0x7f727682e040>,\n",
       " <Element tr at 0x7f727682e090>,\n",
       " <Element tr at 0x7f727682e0e0>,\n",
       " <Element tr at 0x7f727682e130>,\n",
       " <Element tr at 0x7f727682e180>,\n",
       " <Element tr at 0x7f727682e1d0>,\n",
       " <Element tr at 0x7f727682e220>,\n",
       " <Element tr at 0x7f727682e270>,\n",
       " <Element tr at 0x7f727682e2c0>,\n",
       " <Element tr at 0x7f727682e310>,\n",
       " <Element tr at 0x7f727682e360>,\n",
       " <Element tr at 0x7f727682e3b0>,\n",
       " <Element tr at 0x7f727682e400>,\n",
       " <Element tr at 0x7f727682e450>,\n",
       " <Element tr at 0x7f727682e4a0>,\n",
       " <Element tr at 0x7f727682e4f0>,\n",
       " <Element tr at 0x7f727682e540>,\n",
       " <Element tr at 0x7f727682e590>,\n",
       " <Element tr at 0x7f727682e5e0>,\n",
       " <Element tr at 0x7f727682e630>,\n",
       " <Element tr at 0x7f727682e680>]"
      ]
     },
     "execution_count": 15,
     "metadata": {},
     "output_type": "execute_result"
    }
   ],
   "source": [
    "tablebody.getchildren()"
   ]
  },
  {
   "cell_type": "code",
   "execution_count": 16,
   "metadata": {},
   "outputs": [
    {
     "data": {
      "text/plain": [
       "[<Element th at 0x7f7276827b80>,\n",
       " <Element td at 0x7f727682e7c0>,\n",
       " <Element td at 0x7f727682eae0>,\n",
       " <Element td at 0x7f727682eb30>,\n",
       " <Element td at 0x7f727682eb80>,\n",
       " <Element td at 0x7f727682ebd0>,\n",
       " <Element td at 0x7f727682ec20>,\n",
       " <Element td at 0x7f727682ec70>,\n",
       " <Element td at 0x7f727682ecc0>,\n",
       " <Element td at 0x7f727682ed10>,\n",
       " <Element td at 0x7f727682ed60>,\n",
       " <Element td at 0x7f727682edb0>,\n",
       " <Element td at 0x7f727682ee00>]"
      ]
     },
     "execution_count": 16,
     "metadata": {},
     "output_type": "execute_result"
    }
   ],
   "source": [
    "tablebody.getchildren()[0].getchildren()"
   ]
  },
  {
   "cell_type": "code",
   "execution_count": 17,
   "metadata": {},
   "outputs": [
    {
     "data": {
      "text/plain": [
       "[<Element th at 0x7f7276827900>,\n",
       " <Element td at 0x7f7276872b80>,\n",
       " <Element td at 0x7f7276872680>,\n",
       " <Element td at 0x7f7276872860>,\n",
       " <Element td at 0x7f7276872770>,\n",
       " <Element td at 0x7f7276872590>,\n",
       " <Element td at 0x7f72768726d0>,\n",
       " <Element td at 0x7f7276872630>,\n",
       " <Element td at 0x7f72768725e0>,\n",
       " <Element td at 0x7f72940424f0>,\n",
       " <Element td at 0x7f72948fbb30>,\n",
       " <Element td at 0x7f727c2ac130>,\n",
       " <Element td at 0x7f727682ea40>]"
      ]
     },
     "execution_count": 17,
     "metadata": {},
     "output_type": "execute_result"
    }
   ],
   "source": [
    "tablebody.getchildren()[1].getchildren()"
   ]
  },
  {
   "cell_type": "code",
   "execution_count": 18,
   "metadata": {},
   "outputs": [
    {
     "data": {
      "text/plain": [
       "'St. Louis Hawks'"
      ]
     },
     "execution_count": 18,
     "metadata": {},
     "output_type": "execute_result"
    }
   ],
   "source": [
    "tablebody.getchildren()[2].getchildren()[0].text_content()"
   ]
  },
  {
   "cell_type": "code",
   "execution_count": 19,
   "metadata": {},
   "outputs": [
    {
     "data": {
      "text/plain": [
       "'NBA'"
      ]
     },
     "execution_count": 19,
     "metadata": {},
     "output_type": "execute_result"
    }
   ],
   "source": [
    "tablebody.getchildren()[2].getchildren()[1].text_content()"
   ]
  },
  {
   "cell_type": "code",
   "execution_count": 20,
   "metadata": {},
   "outputs": [
    {
     "data": {
      "text/plain": [
       "84"
      ]
     },
     "execution_count": 20,
     "metadata": {},
     "output_type": "execute_result"
    }
   ],
   "source": [
    "len( tablebody.getchildren()[1:] )"
   ]
  },
  {
   "cell_type": "code",
   "execution_count": 21,
   "metadata": {},
   "outputs": [
    {
     "name": "stdout",
     "output_type": "stream",
     "text": [
      "Atlanta HawksNBA1968-692019-2052420120682133.49233500\n",
      "St. Louis HawksNBA1955-561967-68131005553452.55012601\n",
      "Milwaukee HawksNBA1951-521954-55428191190.3240000\n",
      "Tri-Cities BlackhawksNBA1949-501950-5121325478.4091000\n",
      "Boston CelticsNBA/BAA1946-472019-2074579634262370.5915731917\n",
      "Brooklyn NetsNBA/ABA1967-682019-2053429418592435.43328522\n",
      "Brooklyn NetsNBA2012-132019-208646277369.4295000\n",
      "New Jersey NetsNBA1977-782011-1235282211861636.42016420\n",
      "New York NetsNBA1976-771976-771822260.2680000\n"
     ]
    }
   ],
   "source": [
    "data = {\n",
    "    \"franchise\": [],\n",
    "    \"lg\":        [],\n",
    "    \"from\":      [],\n",
    "    \"to\":        [],\n",
    "    \"yrs\":       [],\n",
    "    \"g\":         [],\n",
    "    \"w\":         [],\n",
    "    \"l\":         [],\n",
    "    \"w/l%\":      [],\n",
    "    \"plyfs\":     [],\n",
    "    \"div\":       [],\n",
    "    \"conf\":      [],\n",
    "    \"champ\":     []\n",
    "}\n",
    "\n",
    "for row in tablebody.getchildren()[1:10]:\n",
    "    print(row.text_content().strip())"
   ]
  },
  {
   "cell_type": "code",
   "execution_count": 22,
   "metadata": {},
   "outputs": [
    {
     "data": {
      "text/plain": [
       "<Element tr at 0x7f7276827e50>"
      ]
     },
     "execution_count": 22,
     "metadata": {},
     "output_type": "execute_result"
    }
   ],
   "source": [
    "row"
   ]
  },
  {
   "cell_type": "code",
   "execution_count": 23,
   "metadata": {},
   "outputs": [
    {
     "data": {
      "text/plain": [
       "'New York Nets'"
      ]
     },
     "execution_count": 23,
     "metadata": {},
     "output_type": "execute_result"
    }
   ],
   "source": [
    "row.getchildren()[0].text_content()"
   ]
  },
  {
   "cell_type": "code",
   "execution_count": 24,
   "metadata": {},
   "outputs": [
    {
     "name": "stdout",
     "output_type": "stream",
     "text": [
      "franchise:  New York Nets\n",
      "lg:         NBA\n",
      "from:       1976-77\n",
      "to:         1976-77\n",
      "yrs:        1\n",
      "g:          82\n",
      "w:          22\n",
      "l:          60\n",
      "w/l%:       .268\n",
      "plyfs:      0\n",
      "div:        0\n",
      "conf:       0\n",
      "champ:      0\n"
     ]
    }
   ],
   "source": [
    "print(\"franchise: \", row.getchildren()[0].text_content().strip())\n",
    "print(\"lg:        \", row.getchildren()[1].text_content().strip())\n",
    "print(\"from:      \", row.getchildren()[2].text_content().strip())\n",
    "print(\"to:        \", row.getchildren()[3].text_content().strip())\n",
    "print(\"yrs:       \", row.getchildren()[4].text_content().strip())\n",
    "print(\"g:         \", row.getchildren()[5].text_content().strip())\n",
    "print(\"w:         \", row.getchildren()[6].text_content().strip())\n",
    "print(\"l:         \", row.getchildren()[7].text_content().strip())\n",
    "print(\"w/l%:      \", row.getchildren()[8].text_content().strip())\n",
    "print(\"plyfs:     \", row.getchildren()[9].text_content().strip())\n",
    "print(\"div:       \", row.getchildren()[10].text_content().strip())\n",
    "print(\"conf:      \", row.getchildren()[11].text_content().strip())\n",
    "print(\"champ:     \", row.getchildren()[12].text_content().strip())"
   ]
  },
  {
   "cell_type": "code",
   "execution_count": 25,
   "metadata": {},
   "outputs": [
    {
     "data": {
      "text/plain": [
       "85"
      ]
     },
     "execution_count": 25,
     "metadata": {},
     "output_type": "execute_result"
    }
   ],
   "source": [
    "len( tablebody.getchildren() )"
   ]
  },
  {
   "cell_type": "code",
   "execution_count": 26,
   "metadata": {},
   "outputs": [],
   "source": [
    "data = {\n",
    "    \"franchise\": [],\n",
    "    \"lg\":        [],\n",
    "    \"from\":      [],\n",
    "    \"to\":        [],\n",
    "    \"yrs\":       [],\n",
    "    \"g\":         [],\n",
    "    \"w\":         [],\n",
    "    \"l\":         [],\n",
    "    \"w/l%\":      [],\n",
    "    \"plyfs\":     [],\n",
    "    \"div\":       [],\n",
    "    \"conf\":      [],\n",
    "    \"champ\":     []\n",
    "}\n",
    "\n",
    "for row in tablebody.getchildren()[1:14]:\n",
    "    data[\"franchise\"].append(row.getchildren()[0].text_content().strip())"
   ]
  },
  {
   "cell_type": "code",
   "execution_count": 27,
   "metadata": {},
   "outputs": [
    {
     "data": {
      "text/plain": [
       "['Atlanta Hawks',\n",
       " 'St. Louis Hawks',\n",
       " 'Milwaukee Hawks',\n",
       " 'Tri-Cities Blackhawks',\n",
       " 'Boston Celtics',\n",
       " 'Brooklyn Nets',\n",
       " 'Brooklyn Nets',\n",
       " 'New Jersey Nets',\n",
       " 'New York Nets',\n",
       " 'New York Nets',\n",
       " 'New Jersey Americans',\n",
       " 'Charlotte Hornets',\n",
       " 'Charlotte Hornets']"
      ]
     },
     "execution_count": 27,
     "metadata": {},
     "output_type": "execute_result"
    }
   ],
   "source": [
    "data[\"franchise\"]"
   ]
  },
  {
   "cell_type": "code",
   "execution_count": 28,
   "metadata": {},
   "outputs": [
    {
     "data": {
      "text/html": [
       "<div>\n",
       "<style scoped>\n",
       "    .dataframe tbody tr th:only-of-type {\n",
       "        vertical-align: middle;\n",
       "    }\n",
       "\n",
       "    .dataframe tbody tr th {\n",
       "        vertical-align: top;\n",
       "    }\n",
       "\n",
       "    .dataframe thead th {\n",
       "        text-align: right;\n",
       "    }\n",
       "</style>\n",
       "<table border=\"1\" class=\"dataframe\">\n",
       "  <thead>\n",
       "    <tr style=\"text-align: right;\">\n",
       "      <th></th>\n",
       "      <th>franchise</th>\n",
       "      <th>lg</th>\n",
       "      <th>from</th>\n",
       "      <th>to</th>\n",
       "      <th>yrs</th>\n",
       "      <th>g</th>\n",
       "      <th>w</th>\n",
       "      <th>l</th>\n",
       "      <th>w/l%</th>\n",
       "      <th>plyfs</th>\n",
       "      <th>div</th>\n",
       "      <th>conf</th>\n",
       "      <th>champ</th>\n",
       "    </tr>\n",
       "  </thead>\n",
       "  <tbody>\n",
       "    <tr>\n",
       "      <th>0</th>\n",
       "      <td>Atlanta Hawks</td>\n",
       "      <td>NBA</td>\n",
       "      <td>1968-69</td>\n",
       "      <td>2019-20</td>\n",
       "      <td>52</td>\n",
       "      <td>4201</td>\n",
       "      <td>2068</td>\n",
       "      <td>2133</td>\n",
       "      <td>.492</td>\n",
       "      <td>33</td>\n",
       "      <td>5</td>\n",
       "      <td>0</td>\n",
       "      <td>0</td>\n",
       "    </tr>\n",
       "    <tr>\n",
       "      <th>1</th>\n",
       "      <td>St. Louis Hawks</td>\n",
       "      <td>NBA</td>\n",
       "      <td>1955-56</td>\n",
       "      <td>1967-68</td>\n",
       "      <td>13</td>\n",
       "      <td>1005</td>\n",
       "      <td>553</td>\n",
       "      <td>452</td>\n",
       "      <td>.550</td>\n",
       "      <td>12</td>\n",
       "      <td>6</td>\n",
       "      <td>0</td>\n",
       "      <td>1</td>\n",
       "    </tr>\n",
       "    <tr>\n",
       "      <th>2</th>\n",
       "      <td>Milwaukee Hawks</td>\n",
       "      <td>NBA</td>\n",
       "      <td>1951-52</td>\n",
       "      <td>1954-55</td>\n",
       "      <td>4</td>\n",
       "      <td>281</td>\n",
       "      <td>91</td>\n",
       "      <td>190</td>\n",
       "      <td>.324</td>\n",
       "      <td>0</td>\n",
       "      <td>0</td>\n",
       "      <td>0</td>\n",
       "      <td>0</td>\n",
       "    </tr>\n",
       "    <tr>\n",
       "      <th>3</th>\n",
       "      <td>Tri-Cities Blackhawks</td>\n",
       "      <td>NBA</td>\n",
       "      <td>1949-50</td>\n",
       "      <td>1950-51</td>\n",
       "      <td>2</td>\n",
       "      <td>132</td>\n",
       "      <td>54</td>\n",
       "      <td>78</td>\n",
       "      <td>.409</td>\n",
       "      <td>1</td>\n",
       "      <td>0</td>\n",
       "      <td>0</td>\n",
       "      <td>0</td>\n",
       "    </tr>\n",
       "    <tr>\n",
       "      <th>4</th>\n",
       "      <td>Boston Celtics</td>\n",
       "      <td>NBA/BAA</td>\n",
       "      <td>1946-47</td>\n",
       "      <td>2019-20</td>\n",
       "      <td>74</td>\n",
       "      <td>5796</td>\n",
       "      <td>3426</td>\n",
       "      <td>2370</td>\n",
       "      <td>.591</td>\n",
       "      <td>57</td>\n",
       "      <td>31</td>\n",
       "      <td>9</td>\n",
       "      <td>17</td>\n",
       "    </tr>\n",
       "    <tr>\n",
       "      <th>5</th>\n",
       "      <td>Brooklyn Nets</td>\n",
       "      <td>NBA/ABA</td>\n",
       "      <td>1967-68</td>\n",
       "      <td>2019-20</td>\n",
       "      <td>53</td>\n",
       "      <td>4294</td>\n",
       "      <td>1859</td>\n",
       "      <td>2435</td>\n",
       "      <td>.433</td>\n",
       "      <td>28</td>\n",
       "      <td>5</td>\n",
       "      <td>2</td>\n",
       "      <td>2</td>\n",
       "    </tr>\n",
       "    <tr>\n",
       "      <th>6</th>\n",
       "      <td>Brooklyn Nets</td>\n",
       "      <td>NBA</td>\n",
       "      <td>2012-13</td>\n",
       "      <td>2019-20</td>\n",
       "      <td>8</td>\n",
       "      <td>646</td>\n",
       "      <td>277</td>\n",
       "      <td>369</td>\n",
       "      <td>.429</td>\n",
       "      <td>5</td>\n",
       "      <td>0</td>\n",
       "      <td>0</td>\n",
       "      <td>0</td>\n",
       "    </tr>\n",
       "    <tr>\n",
       "      <th>7</th>\n",
       "      <td>New Jersey Nets</td>\n",
       "      <td>NBA</td>\n",
       "      <td>1977-78</td>\n",
       "      <td>2011-12</td>\n",
       "      <td>35</td>\n",
       "      <td>2822</td>\n",
       "      <td>1186</td>\n",
       "      <td>1636</td>\n",
       "      <td>.420</td>\n",
       "      <td>16</td>\n",
       "      <td>4</td>\n",
       "      <td>2</td>\n",
       "      <td>0</td>\n",
       "    </tr>\n",
       "    <tr>\n",
       "      <th>8</th>\n",
       "      <td>New York Nets</td>\n",
       "      <td>NBA</td>\n",
       "      <td>1976-77</td>\n",
       "      <td>1976-77</td>\n",
       "      <td>1</td>\n",
       "      <td>82</td>\n",
       "      <td>22</td>\n",
       "      <td>60</td>\n",
       "      <td>.268</td>\n",
       "      <td>0</td>\n",
       "      <td>0</td>\n",
       "      <td>0</td>\n",
       "      <td>0</td>\n",
       "    </tr>\n",
       "    <tr>\n",
       "      <th>9</th>\n",
       "      <td>New York Nets</td>\n",
       "      <td>ABA</td>\n",
       "      <td>1968-69</td>\n",
       "      <td>1975-76</td>\n",
       "      <td>8</td>\n",
       "      <td>666</td>\n",
       "      <td>338</td>\n",
       "      <td>328</td>\n",
       "      <td>.508</td>\n",
       "      <td>7</td>\n",
       "      <td>1</td>\n",
       "      <td>0</td>\n",
       "      <td>2</td>\n",
       "    </tr>\n",
       "    <tr>\n",
       "      <th>10</th>\n",
       "      <td>New Jersey Americans</td>\n",
       "      <td>ABA</td>\n",
       "      <td>1967-68</td>\n",
       "      <td>1967-68</td>\n",
       "      <td>1</td>\n",
       "      <td>78</td>\n",
       "      <td>36</td>\n",
       "      <td>42</td>\n",
       "      <td>.462</td>\n",
       "      <td>0</td>\n",
       "      <td>0</td>\n",
       "      <td>0</td>\n",
       "      <td>0</td>\n",
       "    </tr>\n",
       "    <tr>\n",
       "      <th>11</th>\n",
       "      <td>Charlotte Hornets</td>\n",
       "      <td>NBA</td>\n",
       "      <td>1988-89</td>\n",
       "      <td>2019-20</td>\n",
       "      <td>30</td>\n",
       "      <td>2395</td>\n",
       "      <td>1050</td>\n",
       "      <td>1345</td>\n",
       "      <td>.438</td>\n",
       "      <td>10</td>\n",
       "      <td>0</td>\n",
       "      <td>0</td>\n",
       "      <td>0</td>\n",
       "    </tr>\n",
       "    <tr>\n",
       "      <th>12</th>\n",
       "      <td>Charlotte Hornets</td>\n",
       "      <td>NBA</td>\n",
       "      <td>2014-15</td>\n",
       "      <td>2019-20</td>\n",
       "      <td>6</td>\n",
       "      <td>475</td>\n",
       "      <td>215</td>\n",
       "      <td>260</td>\n",
       "      <td>.453</td>\n",
       "      <td>1</td>\n",
       "      <td>0</td>\n",
       "      <td>0</td>\n",
       "      <td>0</td>\n",
       "    </tr>\n",
       "  </tbody>\n",
       "</table>\n",
       "</div>"
      ],
      "text/plain": [
       "                franchise       lg     from       to yrs     g     w     l  \\\n",
       "0           Atlanta Hawks      NBA  1968-69  2019-20  52  4201  2068  2133   \n",
       "1         St. Louis Hawks      NBA  1955-56  1967-68  13  1005   553   452   \n",
       "2         Milwaukee Hawks      NBA  1951-52  1954-55   4   281    91   190   \n",
       "3   Tri-Cities Blackhawks      NBA  1949-50  1950-51   2   132    54    78   \n",
       "4          Boston Celtics  NBA/BAA  1946-47  2019-20  74  5796  3426  2370   \n",
       "5           Brooklyn Nets  NBA/ABA  1967-68  2019-20  53  4294  1859  2435   \n",
       "6           Brooklyn Nets      NBA  2012-13  2019-20   8   646   277   369   \n",
       "7         New Jersey Nets      NBA  1977-78  2011-12  35  2822  1186  1636   \n",
       "8           New York Nets      NBA  1976-77  1976-77   1    82    22    60   \n",
       "9           New York Nets      ABA  1968-69  1975-76   8   666   338   328   \n",
       "10   New Jersey Americans      ABA  1967-68  1967-68   1    78    36    42   \n",
       "11      Charlotte Hornets      NBA  1988-89  2019-20  30  2395  1050  1345   \n",
       "12      Charlotte Hornets      NBA  2014-15  2019-20   6   475   215   260   \n",
       "\n",
       "    w/l% plyfs div conf champ  \n",
       "0   .492    33   5    0     0  \n",
       "1   .550    12   6    0     1  \n",
       "2   .324     0   0    0     0  \n",
       "3   .409     1   0    0     0  \n",
       "4   .591    57  31    9    17  \n",
       "5   .433    28   5    2     2  \n",
       "6   .429     5   0    0     0  \n",
       "7   .420    16   4    2     0  \n",
       "8   .268     0   0    0     0  \n",
       "9   .508     7   1    0     2  \n",
       "10  .462     0   0    0     0  \n",
       "11  .438    10   0    0     0  \n",
       "12  .453     1   0    0     0  "
      ]
     },
     "execution_count": 28,
     "metadata": {},
     "output_type": "execute_result"
    }
   ],
   "source": [
    "data = {\n",
    "    \"franchise\": [],\n",
    "    \"lg\":        [],\n",
    "    \"from\":      [],\n",
    "    \"to\":        [],\n",
    "    \"yrs\":       [],\n",
    "    \"g\":         [],\n",
    "    \"w\":         [],\n",
    "    \"l\":         [],\n",
    "    \"w/l%\":      [],\n",
    "    \"plyfs\":     [],\n",
    "    \"div\":       [],\n",
    "    \"conf\":      [],\n",
    "    \"champ\":     []\n",
    "}\n",
    "\n",
    "for row in tablebody.getchildren()[1:14]:\n",
    "    \n",
    "    data[\"franchise\"].append(row.getchildren()[0].text_content().strip())\n",
    "    data[\"lg\"].append(row.getchildren()[1].text_content().strip())\n",
    "    data[\"from\"].append(row.getchildren()[2].text_content().strip())\n",
    "    data[\"to\"].append(row.getchildren()[3].text_content().strip())\n",
    "    data[\"yrs\"].append(row.getchildren()[4].text_content().strip())\n",
    "    data[\"g\"].append(row.getchildren()[5].text_content().strip())\n",
    "    data[\"w\"].append(row.getchildren()[6].text_content().strip())\n",
    "    data[\"l\"].append(row.getchildren()[7].text_content().strip())\n",
    "    data[\"w/l%\"].append(row.getchildren()[8].text_content().strip())\n",
    "    data[\"plyfs\"].append(row.getchildren()[9].text_content().strip())\n",
    "    data[\"div\"].append(row.getchildren()[10].text_content().strip())\n",
    "    data[\"conf\"].append(row.getchildren()[11].text_content().strip())\n",
    "    data[\"champ\"].append(row.getchildren()[12].text_content().strip())\n",
    "\n",
    "df = pd.DataFrame(data)    \n",
    "df"
   ]
  },
  {
   "cell_type": "code",
   "execution_count": 29,
   "metadata": {},
   "outputs": [
    {
     "data": {
      "text/plain": [
       "0     9\n",
       "2     2\n",
       "1     1\n",
       "17    1\n",
       "Name: champ, dtype: int64"
      ]
     },
     "execution_count": 29,
     "metadata": {},
     "output_type": "execute_result"
    }
   ],
   "source": [
    "df.champ.value_counts()"
   ]
  },
  {
   "cell_type": "code",
   "execution_count": 30,
   "metadata": {},
   "outputs": [
    {
     "data": {
      "text/html": [
       "<div>\n",
       "<style scoped>\n",
       "    .dataframe tbody tr th:only-of-type {\n",
       "        vertical-align: middle;\n",
       "    }\n",
       "\n",
       "    .dataframe tbody tr th {\n",
       "        vertical-align: top;\n",
       "    }\n",
       "\n",
       "    .dataframe thead th {\n",
       "        text-align: right;\n",
       "    }\n",
       "</style>\n",
       "<table border=\"1\" class=\"dataframe\">\n",
       "  <thead>\n",
       "    <tr style=\"text-align: right;\">\n",
       "      <th></th>\n",
       "      <th>franchise</th>\n",
       "      <th>lg</th>\n",
       "      <th>from</th>\n",
       "      <th>to</th>\n",
       "      <th>yrs</th>\n",
       "      <th>g</th>\n",
       "      <th>w</th>\n",
       "      <th>l</th>\n",
       "      <th>w/l%</th>\n",
       "      <th>plyfs</th>\n",
       "      <th>div</th>\n",
       "      <th>conf</th>\n",
       "      <th>champ</th>\n",
       "    </tr>\n",
       "  </thead>\n",
       "  <tbody>\n",
       "    <tr>\n",
       "      <th>4</th>\n",
       "      <td>Boston Celtics</td>\n",
       "      <td>NBA/BAA</td>\n",
       "      <td>1946-47</td>\n",
       "      <td>2019-20</td>\n",
       "      <td>74</td>\n",
       "      <td>5796</td>\n",
       "      <td>3426</td>\n",
       "      <td>2370</td>\n",
       "      <td>.591</td>\n",
       "      <td>57</td>\n",
       "      <td>31</td>\n",
       "      <td>9</td>\n",
       "      <td>17</td>\n",
       "    </tr>\n",
       "  </tbody>\n",
       "</table>\n",
       "</div>"
      ],
      "text/plain": [
       "        franchise       lg     from       to yrs     g     w     l  w/l%  \\\n",
       "4  Boston Celtics  NBA/BAA  1946-47  2019-20  74  5796  3426  2370  .591   \n",
       "\n",
       "  plyfs div conf champ  \n",
       "4    57  31    9    17  "
      ]
     },
     "execution_count": 30,
     "metadata": {},
     "output_type": "execute_result"
    }
   ],
   "source": [
    "df[df.champ == \"17\"]"
   ]
  },
  {
   "cell_type": "code",
   "execution_count": 31,
   "metadata": {},
   "outputs": [],
   "source": [
    "conn   = sqlite3.connect(\":memory:\")"
   ]
  },
  {
   "cell_type": "code",
   "execution_count": 32,
   "metadata": {},
   "outputs": [],
   "source": [
    "cursor = conn.cursor()"
   ]
  },
  {
   "cell_type": "code",
   "execution_count": 33,
   "metadata": {},
   "outputs": [
    {
     "data": {
      "text/plain": [
       "<sqlite3.Cursor at 0x7f7276831880>"
      ]
     },
     "execution_count": 33,
     "metadata": {},
     "output_type": "execute_result"
    }
   ],
   "source": [
    "cursor.execute(\"\"\"\n",
    "    CREATE TABLE BBALL (\n",
    "    FRANCHISE TEXT, \n",
    "    LEAGUE TEXT, \n",
    "    START_SEASON NUMBER, \n",
    "    END_SEASON NUMBER, \n",
    "    YEARS NUMBER, \n",
    "    GAMES NUMBER, \n",
    "    WINS NUMBER, \n",
    "    LOSSES NUMBER, \n",
    "    WIN_LOSS INTEGER, \n",
    "    REACHED_PLAYOFFS NUMBER, \n",
    "    WON_DIVISION NUMBER, \n",
    "    WON_CONFERENCE NUMBER, \n",
    "    WON_CHAMPIONSHIP\n",
    "    )\n",
    "\"\"\")"
   ]
  },
  {
   "cell_type": "code",
   "execution_count": 34,
   "metadata": {},
   "outputs": [],
   "source": [
    "db     = sqlite3.connect(\":memory:\")\n",
    "cursor = db.cursor()\n",
    "cursor.execute(\"\"\"\n",
    "    CREATE TABLE BBALL(FRANCHISE TEXT, LEAGUE TEXT, START_SEASON NUMBER, END_SEASON NUMBER, YEARS NUMBER, GAMES NUMBER, WINS NUMBER, LOSSES NUMBER, WIN_LOSS INTEGER, REACHED_PLAYOFFS NUMBER, WON_DIVISION NUMBER, WON_CONFERENCE NUMBER, WON_CHAMPIONSHIP NUMBER)\n",
    "\"\"\") \n",
    "\n",
    "db.close()"
   ]
  },
  {
   "cell_type": "code",
   "execution_count": 35,
   "metadata": {},
   "outputs": [
    {
     "data": {
      "text/html": [
       "<div>\n",
       "<style scoped>\n",
       "    .dataframe tbody tr th:only-of-type {\n",
       "        vertical-align: middle;\n",
       "    }\n",
       "\n",
       "    .dataframe tbody tr th {\n",
       "        vertical-align: top;\n",
       "    }\n",
       "\n",
       "    .dataframe thead th {\n",
       "        text-align: right;\n",
       "    }\n",
       "</style>\n",
       "<table border=\"1\" class=\"dataframe\">\n",
       "  <thead>\n",
       "    <tr style=\"text-align: right;\">\n",
       "      <th></th>\n",
       "      <th>franchise</th>\n",
       "      <th>lg</th>\n",
       "      <th>from</th>\n",
       "      <th>to</th>\n",
       "      <th>yrs</th>\n",
       "      <th>g</th>\n",
       "      <th>w</th>\n",
       "      <th>l</th>\n",
       "      <th>w/l%</th>\n",
       "      <th>plyfs</th>\n",
       "      <th>div</th>\n",
       "      <th>conf</th>\n",
       "      <th>champ</th>\n",
       "    </tr>\n",
       "  </thead>\n",
       "  <tbody>\n",
       "    <tr>\n",
       "      <th>2</th>\n",
       "      <td>Milwaukee Hawks</td>\n",
       "      <td>NBA</td>\n",
       "      <td>1951-52</td>\n",
       "      <td>1954-55</td>\n",
       "      <td>4</td>\n",
       "      <td>281</td>\n",
       "      <td>91</td>\n",
       "      <td>190</td>\n",
       "      <td>.324</td>\n",
       "      <td>0</td>\n",
       "      <td>0</td>\n",
       "      <td>0</td>\n",
       "      <td>0</td>\n",
       "    </tr>\n",
       "    <tr>\n",
       "      <th>3</th>\n",
       "      <td>Tri-Cities Blackhawks</td>\n",
       "      <td>NBA</td>\n",
       "      <td>1949-50</td>\n",
       "      <td>1950-51</td>\n",
       "      <td>2</td>\n",
       "      <td>132</td>\n",
       "      <td>54</td>\n",
       "      <td>78</td>\n",
       "      <td>.409</td>\n",
       "      <td>1</td>\n",
       "      <td>0</td>\n",
       "      <td>0</td>\n",
       "      <td>0</td>\n",
       "    </tr>\n",
       "    <tr>\n",
       "      <th>8</th>\n",
       "      <td>New York Nets</td>\n",
       "      <td>NBA</td>\n",
       "      <td>1976-77</td>\n",
       "      <td>1976-77</td>\n",
       "      <td>1</td>\n",
       "      <td>82</td>\n",
       "      <td>22</td>\n",
       "      <td>60</td>\n",
       "      <td>.268</td>\n",
       "      <td>0</td>\n",
       "      <td>0</td>\n",
       "      <td>0</td>\n",
       "      <td>0</td>\n",
       "    </tr>\n",
       "    <tr>\n",
       "      <th>10</th>\n",
       "      <td>New Jersey Americans</td>\n",
       "      <td>ABA</td>\n",
       "      <td>1967-68</td>\n",
       "      <td>1967-68</td>\n",
       "      <td>1</td>\n",
       "      <td>78</td>\n",
       "      <td>36</td>\n",
       "      <td>42</td>\n",
       "      <td>.462</td>\n",
       "      <td>0</td>\n",
       "      <td>0</td>\n",
       "      <td>0</td>\n",
       "      <td>0</td>\n",
       "    </tr>\n",
       "    <tr>\n",
       "      <th>12</th>\n",
       "      <td>Charlotte Hornets</td>\n",
       "      <td>NBA</td>\n",
       "      <td>2014-15</td>\n",
       "      <td>2019-20</td>\n",
       "      <td>6</td>\n",
       "      <td>475</td>\n",
       "      <td>215</td>\n",
       "      <td>260</td>\n",
       "      <td>.453</td>\n",
       "      <td>1</td>\n",
       "      <td>0</td>\n",
       "      <td>0</td>\n",
       "      <td>0</td>\n",
       "    </tr>\n",
       "  </tbody>\n",
       "</table>\n",
       "</div>"
      ],
      "text/plain": [
       "                franchise   lg     from       to yrs    g    w    l  w/l%  \\\n",
       "2         Milwaukee Hawks  NBA  1951-52  1954-55   4  281   91  190  .324   \n",
       "3   Tri-Cities Blackhawks  NBA  1949-50  1950-51   2  132   54   78  .409   \n",
       "8           New York Nets  NBA  1976-77  1976-77   1   82   22   60  .268   \n",
       "10   New Jersey Americans  ABA  1967-68  1967-68   1   78   36   42  .462   \n",
       "12      Charlotte Hornets  NBA  2014-15  2019-20   6  475  215  260  .453   \n",
       "\n",
       "   plyfs div conf champ  \n",
       "2      0   0    0     0  \n",
       "3      1   0    0     0  \n",
       "8      0   0    0     0  \n",
       "10     0   0    0     0  \n",
       "12     1   0    0     0  "
      ]
     },
     "execution_count": 35,
     "metadata": {},
     "output_type": "execute_result"
    }
   ],
   "source": [
    "df [ df.plyfs.isin([\"0\", \"1\"]) ]"
   ]
  },
  {
   "cell_type": "code",
   "execution_count": 36,
   "metadata": {},
   "outputs": [
    {
     "name": "stdout",
     "output_type": "stream",
     "text": [
      "('Milwaukee Hawks', 'NBA', '1951-52', '1954-55', '4', '281', '91', '190', '.324', '0', '0', '0', '0')\n",
      "('Tri-Cities Blackhawks', 'NBA', '1949-50', '1950-51', '2', '132', '54', '78', '.409', '1', '0', '0', '0')\n",
      "('New York Nets', 'NBA', '1976-77', '1976-77', '1', '82', '22', '60', '.268', '0', '0', '0', '0')\n",
      "('New Jersey Americans', 'ABA', '1967-68', '1967-68', '1', '78', '36', '42', '.462', '0', '0', '0', '0')\n",
      "('Charlotte Hornets', 'NBA', '2014-15', '2019-20', '6', '475', '215', '260', '.453', '1', '0', '0', '0')\n"
     ]
    }
   ],
   "source": [
    "for row in df[df.plyfs.isin([\"0\", \"1\"])].itertuples():\n",
    "    print(row[1:])"
   ]
  },
  {
   "cell_type": "code",
   "execution_count": 37,
   "metadata": {},
   "outputs": [
    {
     "data": {
      "text/plain": [
       "Pandas(Index=12, franchise='Charlotte Hornets', lg='NBA', _3='2014-15', to='2019-20', yrs='6', g='475', w='215', l='260', _9='.453', plyfs='1', div='0', conf='0', champ='0')"
      ]
     },
     "execution_count": 37,
     "metadata": {},
     "output_type": "execute_result"
    }
   ],
   "source": [
    "row"
   ]
  },
  {
   "cell_type": "code",
   "execution_count": 38,
   "metadata": {},
   "outputs": [
    {
     "data": {
      "text/plain": [
       "('Charlotte Hornets',\n",
       " 'NBA',\n",
       " '2014-15',\n",
       " '2019-20',\n",
       " '6',\n",
       " '475',\n",
       " '215',\n",
       " '260',\n",
       " '.453',\n",
       " '1',\n",
       " '0',\n",
       " '0',\n",
       " '0')"
      ]
     },
     "execution_count": 38,
     "metadata": {},
     "output_type": "execute_result"
    }
   ],
   "source": [
    "row[1:]"
   ]
  },
  {
   "cell_type": "code",
   "execution_count": 54,
   "metadata": {},
   "outputs": [],
   "source": [
    "db     = sqlite3.connect(\":memory:\")\n",
    "cursor = db.cursor()\n",
    "cursor.execute(\"\"\"\n",
    "    CREATE TABLE BBALL(FRANCHISE TEXT, LEAGUE TEXT, START_SEASON NUMBER, END_SEASON NUMBER, YEARS NUMBER, GAMES NUMBER, WINS NUMBER, LOSSES NUMBER, WIN_LOSS INTEGER, REACHED_PLAYOFFS NUMBER, WON_DIVISION NUMBER, WON_CONFERENCE NUMBER, WON_CHAMPIONSHIP NUMBER)\n",
    "\"\"\") \n",
    "\n",
    "for row in df[df.w.isin([\"0\", \"1\"])].itertuples():\n",
    "    insert_sql_syntax = \"\"\"\n",
    "        INSERT INTO BBALL(FRANCHISE TEXT, LEAGUE TEXT, START_SEASON NUMBER, END_SEASON NUMBER, YEARS NUMBER, GAMES NUMBER, WINS NUMBER, LOSSES NUMBER, WIN_LOSS INTEGER, REACHED_PLAYOFFS NUMBER, WON_DIVISION NUMBER, WON_CONFERENCE NUMBER, WON_CHAMPIONSHIP NUMBER)\n",
    "        VALUES (?,?,?,?,?,?,?,?,?,?,?,?,?)\n",
    "    \"\"\"\n",
    "    cursor.execute(insert_sql_syntax, row[1:])\n",
    "    print(row[1:])\n",
    "\n",
    "# db.close()"
   ]
  },
  {
   "cell_type": "code",
   "execution_count": 44,
   "metadata": {},
   "outputs": [
    {
     "data": {
      "text/plain": [
       "13"
      ]
     },
     "execution_count": 44,
     "metadata": {},
     "output_type": "execute_result"
    }
   ],
   "source": [
    "\n",
    "len(row[1:])"
   ]
  },
  {
   "cell_type": "code",
   "execution_count": 56,
   "metadata": {},
   "outputs": [
    {
     "data": {
      "text/plain": [
       "<sqlite3.Cursor at 0x7f72766751f0>"
      ]
     },
     "execution_count": 56,
     "metadata": {},
     "output_type": "execute_result"
    }
   ],
   "source": [
    "cursor.execute(\"\"\"\n",
    "    SELECT *\n",
    "    FROM BBALL\n",
    "    WHERE WINS = \"1\"\n",
    "\"\"\")"
   ]
  },
  {
   "cell_type": "code",
   "execution_count": 57,
   "metadata": {},
   "outputs": [],
   "source": [
    "for row in cursor.execute(\"\"\"\n",
    "    SELECT *\n",
    "    FROM BBALL\n",
    "    WHERE WINS = \"1\"\n",
    "\"\"\"):\n",
    "    print(row)"
   ]
  },
  {
   "cell_type": "code",
   "execution_count": null,
   "metadata": {},
   "outputs": [],
   "source": []
  }
 ],
 "metadata": {
  "kernelspec": {
   "display_name": "Python 3",
   "language": "python",
   "name": "python3"
  },
  "language_info": {
   "codemirror_mode": {
    "name": "ipython",
    "version": 3
   },
   "file_extension": ".py",
   "mimetype": "text/x-python",
   "name": "python",
   "nbconvert_exporter": "python",
   "pygments_lexer": "ipython3",
   "version": "3.8.5"
  }
 },
 "nbformat": 4,
 "nbformat_minor": 4
}
